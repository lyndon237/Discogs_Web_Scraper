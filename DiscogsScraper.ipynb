{
 "cells": [
  {
   "cell_type": "code",
   "execution_count": 74,
   "metadata": {},
   "outputs": [],
   "source": [
    "import requests as rs\n",
    "from bs4 import BeautifulSoup"
   ]
  },
  {
   "cell_type": "code",
   "execution_count": null,
   "metadata": {},
   "outputs": [],
   "source": [
    "response = rs.get('https://www.discogs.com/search/?sort=want%2Cdesc&q=doom+metal&style_exact=Doom+Metal&type=all')\n",
    "print(response.text[:1000])"
   ]
  },
  {
   "cell_type": "code",
   "execution_count": 76,
   "metadata": {},
   "outputs": [],
   "source": [
    "html_soup = BeautifulSoup(response.text, 'html.parser')"
   ]
  },
  {
   "cell_type": "code",
   "execution_count": 77,
   "metadata": {},
   "outputs": [
    {
     "name": "stdout",
     "output_type": "stream",
     "text": [
      "<class 'bs4.element.ResultSet'>\n",
      "50\n"
     ]
    }
   ],
   "source": [
    "album_containers = html_soup.find_all('div', class_ = \"card card_large float_fix shortcut_navigable\")\n",
    "print(type(album_containers))\n",
    "print(len(album_containers))"
   ]
  },
  {
   "cell_type": "code",
   "execution_count": 78,
   "metadata": {},
   "outputs": [
    {
     "name": "stdout",
     "output_type": "stream",
     "text": [
      "['\\n\\nBlack Sabbath', '\\n\\nSleep', '\\n\\nGhost (32)', '\\n\\nElectric Wizard (2)', '\\n\\nMelvins', '\\n\\nUncle Acid & The Deadbeats', '\\n\\nElectric Wizard (2)', '\\n\\nSunn O))) & \\n\\nBoris (3)', '\\n\\nSunn O)))', '\\n\\nCandlemass']\n"
     ]
    }
   ],
   "source": [
    "import pandas as pd\n",
    "\n",
    "artists = []\n",
    "for i in range(len(album_containers)):\n",
    "    artists.append(album_containers[i].h5.text[:500])\n",
    "    \n",
    "print(artists[:10])"
   ]
  },
  {
   "cell_type": "code",
   "execution_count": 79,
   "metadata": {},
   "outputs": [
    {
     "name": "stdout",
     "output_type": "stream",
     "text": [
      "['Black Sabbath', 'Sleep', 'Ghost (32)', 'Electric Wizard (2)', 'Melvins', 'Uncle Acid & The Deadbeats', 'Electric Wizard (2)', 'Sunn O))) & \\n\\nBoris (3)', 'Sunn O)))', 'Candlemass']\n"
     ]
    }
   ],
   "source": [
    "##Since we see '\\n' characters, we use the strip() function when appending them to the artists array\n",
    "artists = []\n",
    "for i in range(len(album_containers)):\n",
    "    artists.append(album_containers[i].h5.text[:500].strip())\n",
    "    \n",
    "print(artists[:10])"
   ]
  },
  {
   "cell_type": "code",
   "execution_count": 81,
   "metadata": {},
   "outputs": [
    {
     "name": "stdout",
     "output_type": "stream",
     "text": [
      "['Black Sabbath', 'Sleep', 'Ghost ', 'Ghost ', 'Melvins', 'Uncle Acid & The Deadbeats', 'Ghost ', 'Ghost ', 'Sunn O)))', 'Candlemass']\n"
     ]
    }
   ],
   "source": [
    "#Now we see that there are some numbers in parentheses ahead of some artists. These are just the same artists having multiple\n",
    "#pages on discogs because fans manage these. So we'll get rid of those as well\n",
    "import re\n",
    "#print(artists[2].strip(re.findall('\\d',artists[2])))\n",
    "\n",
    "artistsClean = []\n",
    "for i in range(len(artists)):\n",
    "    if re.findall('\\(\\d{1,2}\\)',artists[i]) != []:\n",
    "        artistsClean.append(artists[2].replace(str(re.findall('\\(\\d{1,2}\\)',artists[2])[0]),'',1))\n",
    "    else:\n",
    "        artistsClean.append(artists[i]) \n",
    "    \n",
    "\n",
    "print(artistsClean[:10])"
   ]
  },
  {
   "cell_type": "code",
   "execution_count": 82,
   "metadata": {},
   "outputs": [],
   "source": [
    "albums = []\n",
    "for i in range(len(album_containers)):\n",
    "    albums.append(album_containers[i].h4.text[:500])"
   ]
  },
  {
   "cell_type": "code",
   "execution_count": 83,
   "metadata": {},
   "outputs": [
    {
     "name": "stdout",
     "output_type": "stream",
     "text": [
      "['Master Of Reality', 'Dopesmoker', 'Opvs Eponymovs', 'Dopethrone', 'Houdini', 'Blood Lust', 'Black Masses', 'Altar', 'Black One', 'Epicus Doomicus Metallicus', 'Tales From The Thousand Lakes', 'Литоургиiа', 'Into The Pandemonium', 'Witchcult Today', 'Come My Fanatics...', 'Stoner Witch', 'Through Silver In Blood', 'Slow, Deep And Hard', 'Pentagram', 'Nightfall', 'Mental Funeral', 'Bullhead', 'Trouble', 'Celestial', 'Earth 2: Special Low Frequency Version', 'The Mantle', 'NOLA', 'Pilgrimage', 'Death Penalty', 'Gothic', 'Gluey Porch Treatments', 'Times Of Grace', 'Master Of Reality', 'Hex; Or Printing In The Infernal Method', 'Elizabeth / Death Knell', 'The Sciences', 'Monotheist', 'Prequelle', 'The Origin Of The Feces (Not Live At Brighton Beach)', 'Electric Wizard', 'Lurker Of Chalice', 'Monoliths & Dimensions', 'Advaitic Songs', 'Volume One', 'Wildhoney', 'Forest Of Equilibrium', 'Draconian Times', 'The GrimmRobe Demos', 'Pale Folklore', 'Conference Of The Birds']\n"
     ]
    }
   ],
   "source": [
    "print(albums)"
   ]
  },
  {
   "cell_type": "code",
   "execution_count": 84,
   "metadata": {},
   "outputs": [],
   "source": [
    "albumsInDemand = {\"Artist\":artistsClean, \"Album\":albums}"
   ]
  },
  {
   "cell_type": "code",
   "execution_count": 85,
   "metadata": {},
   "outputs": [],
   "source": [
    "albums_DF = pd.DataFrame(albumsInDemand,columns = ['Artist','Album'])"
   ]
  },
  {
   "cell_type": "code",
   "execution_count": 86,
   "metadata": {},
   "outputs": [
    {
     "name": "stdout",
     "output_type": "stream",
     "text": [
      "                        Artist  \\\n",
      "0                Black Sabbath   \n",
      "1                        Sleep   \n",
      "2                       Ghost    \n",
      "3                       Ghost    \n",
      "4                      Melvins   \n",
      "5   Uncle Acid & The Deadbeats   \n",
      "6                       Ghost    \n",
      "7                       Ghost    \n",
      "8                    Sunn O)))   \n",
      "9                   Candlemass   \n",
      "10                    Amorphis   \n",
      "11                    Батюшка*   \n",
      "12                Celtic Frost   \n",
      "13                      Ghost    \n",
      "14                      Ghost    \n",
      "15                     Melvins   \n",
      "16                    Neurosis   \n",
      "17             Type O Negative   \n",
      "18                   Pentagram   \n",
      "19                  Candlemass   \n",
      "20                      Ghost    \n",
      "21                     Melvins   \n",
      "22                      Ghost    \n",
      "23                      Ghost    \n",
      "24                      Ghost    \n",
      "25                    Agalloch   \n",
      "26                      Ghost    \n",
      "27                      Ghost    \n",
      "28         Witchfinder General   \n",
      "29               Paradise Lost   \n",
      "30                     Melvins   \n",
      "31                    Neurosis   \n",
      "32               Black Sabbath   \n",
      "33                      Ghost    \n",
      "34                      Ghost    \n",
      "35                       Sleep   \n",
      "36                Celtic Frost   \n",
      "37                      Ghost    \n",
      "38             Type O Negative   \n",
      "39                      Ghost    \n",
      "40           Lurker Of Chalice   \n",
      "41                   Sunn O)))   \n",
      "42                      Ghost    \n",
      "43                       Sleep   \n",
      "44                      Tiamat   \n",
      "45                   Cathedral   \n",
      "46               Paradise Lost   \n",
      "47                   Sunn O)))   \n",
      "48                    Agalloch   \n",
      "49                      Ghost    \n",
      "\n",
      "                                                Album  \n",
      "0                                   Master Of Reality  \n",
      "1                                          Dopesmoker  \n",
      "2                                      Opvs Eponymovs  \n",
      "3                                          Dopethrone  \n",
      "4                                             Houdini  \n",
      "5                                          Blood Lust  \n",
      "6                                        Black Masses  \n",
      "7                                               Altar  \n",
      "8                                           Black One  \n",
      "9                          Epicus Doomicus Metallicus  \n",
      "10                      Tales From The Thousand Lakes  \n",
      "11                                         Литоургиiа  \n",
      "12                               Into The Pandemonium  \n",
      "13                                    Witchcult Today  \n",
      "14                                Come My Fanatics...  \n",
      "15                                       Stoner Witch  \n",
      "16                            Through Silver In Blood  \n",
      "17                                Slow, Deep And Hard  \n",
      "18                                          Pentagram  \n",
      "19                                          Nightfall  \n",
      "20                                     Mental Funeral  \n",
      "21                                           Bullhead  \n",
      "22                                            Trouble  \n",
      "23                                          Celestial  \n",
      "24             Earth 2: Special Low Frequency Version  \n",
      "25                                         The Mantle  \n",
      "26                                               NOLA  \n",
      "27                                         Pilgrimage  \n",
      "28                                      Death Penalty  \n",
      "29                                             Gothic  \n",
      "30                             Gluey Porch Treatments  \n",
      "31                                     Times Of Grace  \n",
      "32                                  Master Of Reality  \n",
      "33            Hex; Or Printing In The Infernal Method  \n",
      "34                            Elizabeth / Death Knell  \n",
      "35                                       The Sciences  \n",
      "36                                         Monotheist  \n",
      "37                                          Prequelle  \n",
      "38  The Origin Of The Feces (Not Live At Brighton ...  \n",
      "39                                    Electric Wizard  \n",
      "40                                  Lurker Of Chalice  \n",
      "41                             Monoliths & Dimensions  \n",
      "42                                     Advaitic Songs  \n",
      "43                                         Volume One  \n",
      "44                                          Wildhoney  \n",
      "45                              Forest Of Equilibrium  \n",
      "46                                    Draconian Times  \n",
      "47                                The GrimmRobe Demos  \n",
      "48                                      Pale Folklore  \n",
      "49                            Conference Of The Birds  \n"
     ]
    }
   ],
   "source": [
    "print(albums_DF)"
   ]
  },
  {
   "cell_type": "code",
   "execution_count": null,
   "metadata": {},
   "outputs": [],
   "source": []
  }
 ],
 "metadata": {
  "kernelspec": {
   "display_name": "Python 3",
   "language": "python",
   "name": "python3"
  },
  "language_info": {
   "codemirror_mode": {
    "name": "ipython",
    "version": 3
   },
   "file_extension": ".py",
   "mimetype": "text/x-python",
   "name": "python",
   "nbconvert_exporter": "python",
   "pygments_lexer": "ipython3",
   "version": "3.7.3"
  }
 },
 "nbformat": 4,
 "nbformat_minor": 2
}
